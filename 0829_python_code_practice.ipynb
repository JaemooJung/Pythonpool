{
  "nbformat": 4,
  "nbformat_minor": 0,
  "metadata": {
    "colab": {
      "name": "8월 29일 파이썬 문제풀이.ipynb",
      "provenance": [],
      "collapsed_sections": []
    },
    "kernelspec": {
      "name": "python3",
      "display_name": "Python 3"
    }
  },
  "cells": [
    {
      "cell_type": "code",
      "metadata": {
        "id": "ZvPEW5XwrbRq",
        "colab_type": "code",
        "colab": {}
      },
      "source": [
        "'''\n",
        "1부터 N까지의 숫자에서 홀수는 더하고 짝수는 뺐을 때 최종 누적된 값을 구해보자.\n",
        "\n",
        "\n",
        "[예제 풀이]\n",
        "\n",
        "N이 5일 경우,\n",
        "\n",
        "1 – 2 + 3 – 4 + 5 = 3\n",
        "\n",
        "N이 6일 경우,\n",
        "\n",
        "1 – 2 + 3 – 4 + 5 – 6 = -3\n",
        "\n",
        "\n",
        "[제약사항]\n",
        "\n",
        "N은 1 이상 10 이하의 정수이다. (1 ≤ N ≤ 10)\n",
        "'''"
      ],
      "execution_count": null,
      "outputs": []
    },
    {
      "cell_type": "code",
      "metadata": {
        "id": "vV82dh7yreeR",
        "colab_type": "code",
        "colab": {
          "base_uri": "https://localhost:8080/",
          "height": 108
        },
        "outputId": "6f93136f-9095-47c2-a6ec-8c2f9a52744f"
      },
      "source": [
        "T = int(input())\n",
        "\n",
        "for test_case in range(1, T+1):\n",
        "  N = int(input())\n",
        "\n",
        "  num_list = list(range(1, N+1))\n",
        "  odd_sum = 0\n",
        "  even_sum = 0\n",
        "  for i in num_list:\n",
        "    if i % 2 != 0:\n",
        "      odd_sum += i\n",
        "    else:\n",
        "      even_sum += i\n",
        "  result = odd_sum - even_sum\n",
        "  print(f'#{test_case}', result)\n",
        "\n"
      ],
      "execution_count": 4,
      "outputs": [
        {
          "output_type": "stream",
          "text": [
            "2\n",
            "5\n",
            "#1 3\n",
            "6\n",
            "#2 -3\n"
          ],
          "name": "stdout"
        }
      ]
    },
    {
      "cell_type": "code",
      "metadata": {
        "id": "Av38AiCquVym",
        "colab_type": "code",
        "colab": {}
      },
      "source": [
        "'''\n",
        "삼성전자에 입사한 종민이는 회사 근처로 이사를 하게 되었다.\n",
        "\n",
        "그런데 집의 위치가 두 수도 회사 A, B 중간에 위치하기에 원하는 수도 회사를 선택할 수 있게 되었는데, 두 회사 중 더 적게 수도 요금을 부담해도 되는 회사를 고르려고 한다.\n",
        " \n",
        "종민이가 알아본 결과 두 회사의 수도 요금은 한 달 동안 사용한 수도의 양에 따라 다음과 같이 정해진다.\n",
        " \n",
        "A사 : 1리터당 P원의 돈을 내야 한다.\n",
        "\n",
        "B사 : 기본 요금이 Q원이고, 월간 사용량이 R리터 이하인 경우 요금은 기본 요금만 청구된다. 하지만 R 리터보다 많은 양을 사용한 경우 초과량에 대해 1리터당 S원의 요금을 더 내야 한다.\n",
        " \n",
        " \n",
        "종민이의 집에서 한 달간 사용하는 수도의 양이 W리터라고 할 때, 요금이 더 저렴한 회사를 골라 그 요금을 출력하는 프로그램을 작성하라.\n",
        "\n",
        "[입력]\n",
        "\n",
        "첫 번째 줄에 테스트 케이스의 수 T가 주어진다.\n",
        "\n",
        "각 테스트 케이스마다 첫 번째 줄에 위 본문에서 설명한 대로 P, Q, R, S, W(1 ≤ P, Q, R, S, W ≤ 10000, 자연수)가 순서대로 공백 하나로 구분되어 주어진다.\n",
        "\n",
        "[출력]\n",
        "\n",
        "각 테스트 케이스마다 ‘#x’(x는 테스트케이스 번호를 의미하며 1부터 시작한다)를 출력하고, 종민이가 내야 하는 수도 요금을 출력한다.\n",
        "'''"
      ],
      "execution_count": null,
      "outputs": []
    },
    {
      "cell_type": "code",
      "metadata": {
        "id": "hd2AA5bhub06",
        "colab_type": "code",
        "colab": {
          "base_uri": "https://localhost:8080/",
          "height": 108
        },
        "outputId": "bfaefed3-6811-4c8f-ee0b-e7f02f6b0dd7"
      },
      "source": [
        "T = int(input())\n",
        "\n",
        "for test_case in range(1, T+1):\n",
        "\n",
        "  P, Q, R, S, W = list(map(int, input().split()))\n",
        "\n",
        "  a_price = W * P\n",
        "\n",
        "  if W > R:\n",
        "    b_price = Q + (W - R)*S\n",
        "  else:\n",
        "    b_price = Q\n",
        "\n",
        "  if a_price < b_price:\n",
        "    print(f'#{test_case}', a_price)\n",
        "  else:\n",
        "    print(f'#{test_case}', b_price)"
      ],
      "execution_count": 9,
      "outputs": [
        {
          "output_type": "stream",
          "text": [
            "2\n",
            "9 100 20 3 10\n",
            "#1 90\n",
            "8 300 100 10 250\n",
            "#2 1800\n"
          ],
          "name": "stdout"
        }
      ]
    },
    {
      "cell_type": "code",
      "metadata": {
        "id": "WIMkTnW0zTVk",
        "colab_type": "code",
        "colab": {}
      },
      "source": [
        "'''\n",
        "민석이는 불면증에 걸렸다. 그래서 잠이 안 올 때의 민간요법 중 하나인 양 세기를 하려고 한다.\n",
        "\n",
        "민석이는 1번 양부터 순서대로 세는 것이 재미없을 것 같아서 N의 배수 번호인 양을 세기로 하였다.\n",
        "\n",
        "즉, 첫 번째에는 N번 양을 세고, 두 번째에는 2N번 양, … , k번째에는 kN번 양을 센다.\n",
        "\n",
        "이렇게 숫자를 세던 민석이에게 잠은 더 오지 않고 다음과 같은 궁금증이 생겼다.\n",
        "\n",
        "이전에 셌던 번호들의 각 자리수에서 0에서 9까지의 모든 숫자를 보는 것은 최소 몇 번 양을 센 시점일까?\n",
        "\n",
        "예를 들어 N = 1295이라고 하자.\n",
        "\n",
        "첫 번째로 N = 1295번 양을 센다. 현재 본 숫자는 1, 2, 5, 9이다.\n",
        "\n",
        "두 번째로 2N = 2590번 양을 센다. 현재 본 숫자는 0, 2, 5, 9이다.\n",
        "\n",
        "현재까지 본 숫자는 0, 1, 2, 5, 9이다.\n",
        "\n",
        "세 번째로 3N = 3885번 양을 센다. 현재 본 숫자는 3, 5, 8이다.\n",
        "\n",
        "현재까지 본 숫자는 0, 1, 2, 3, 5, 8, 9이다.\n",
        "\n",
        "네 번째로 4N = 5180번 양을 센다. 현재 본 숫자는 0, 1, 5, 8이다.\n",
        "\n",
        "현재까지 본 숫자는 0, 1, 2, 3, 5, 8, 9이다.\n",
        "\n",
        "다섯 번째로 5N = 6475번 양을 센다. 현재 본 숫자는 4, 5, 6, 7이다.\n",
        "\n",
        "현재까지 본 숫자는 0, 1, 2, 3, 4, 5, 6, 7, 8, 9이다.\n",
        "\n",
        "5N번 양을 세면 0에서 9까지 모든 숫자를 보게 되므로 민석이는 양 세기를 멈춘다.\n",
        "'''"
      ],
      "execution_count": null,
      "outputs": []
    },
    {
      "cell_type": "code",
      "metadata": {
        "id": "yJzoDarizWua",
        "colab_type": "code",
        "colab": {
          "base_uri": "https://localhost:8080/",
          "height": 54
        },
        "outputId": "fab5e090-aa37-4527-ef3c-2f8756ea6085"
      },
      "source": [
        "T = int(input())\n",
        "\n",
        "for test_case in range(1, T+1):\n",
        "  N = int(input())\n",
        "\n",
        "  int_n = int(N)\n",
        "  total_n_list = []\n",
        "  k = 1\n",
        "  while True:\n",
        "    int_n_1 = k * int_n\n",
        "    for i in str(int_n_1):\n",
        "      if i not in total_n_list:\n",
        "        total_n_list.append(i)\n",
        "    if len(total_n_list) == 10:\n",
        "      break\n",
        "    k += 1\n",
        "    \n",
        "  print(f'#{test_case}', int_n_1)\n",
        "\n",
        "  \n",
        "\n"
      ],
      "execution_count": 31,
      "outputs": [
        {
          "output_type": "stream",
          "text": [
            "2\n",
            "90\n"
          ],
          "name": "stdout"
        }
      ]
    },
    {
      "cell_type": "code",
      "metadata": {
        "id": "EAeGushy2GdV",
        "colab_type": "code",
        "colab": {}
      },
      "source": [
        "1\n",
        "2\n",
        "11\n",
        "1295\n",
        "1692"
      ],
      "execution_count": null,
      "outputs": []
    }
  ]
}